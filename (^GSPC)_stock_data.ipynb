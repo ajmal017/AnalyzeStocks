{
 "cells": [
  {
   "cell_type": "markdown",
   "metadata": {
    "colab_type": "text",
    "id": "view-in-github"
   },
   "source": [
    "<a href=\"https://colab.research.google.com/github/benvictoria21/python-stock/blob/master/(%5EGSPC)_stock_data.ipynb\" target=\"_parent\"><img src=\"https://colab.research.google.com/assets/colab-badge.svg\" alt=\"Open In Colab\"/></a>"
   ]
  },
  {
   "cell_type": "code",
   "execution_count": null,
   "metadata": {
    "colab": {},
    "colab_type": "code",
    "id": "nS8PXbx47qmy"
   },
   "outputs": [],
   "source": [
    "import pandas as pd\n",
    "import numpy as np\n",
    "import matplotlib.pyplot as plt\n",
    "import math \n",
    "import api"
   ]
  },
  {
   "cell_type": "code",
   "execution_count": null,
   "metadata": {
    "colab": {},
    "colab_type": "code",
    "id": "MsuNUH2r7eH-"
   },
   "outputs": [],
   "source": [
    "pd.read_csv(\"https://raw.githubusercontent.com/benvictoria21/python-stock/master/%5EGSPC.csv\")"
   ]
  },
  {
   "cell_type": "code",
   "execution_count": null,
   "metadata": {
    "colab": {},
    "colab_type": "code",
    "id": "umlNWtMl_yaH"
   },
   "outputs": [],
   "source": [
    "plt.plot([0,1,2,3,4,5,6,8,9,10,11,12,13,14])\n",
    "plt.show()"
   ]
  },
  {
   "cell_type": "code",
   "execution_count": null,
   "metadata": {
    "colab": {},
    "colab_type": "code",
    "id": "n71ko2bKAPFe"
   },
   "outputs": [],
   "source": [
    "plt.plot([1, 2, 7, 8], [1, 9, 7, 14])\n",
    "plt.show()"
   ]
  },
  {
   "cell_type": "code",
   "execution_count": null,
   "metadata": {
    "colab": {},
    "colab_type": "code",
    "id": "Xd_6Ijj2AYEX"
   },
   "outputs": [],
   "source": [
    "a = np.array([[1,2,3,4,5],[3,7,9,14,12]])\n",
    "\n",
    "plt.plot(a[0], a[1], 'go')  # Format is green circles\n",
    "plt.show()"
   ]
  },
  {
   "cell_type": "code",
   "execution_count": null,
   "metadata": {
    "colab": {},
    "colab_type": "code",
    "id": "3wkwOapaAabZ"
   },
   "outputs": [],
   "source": [
    "t = np.linspace(0, 5, 20)   # Returns 20 evenly spaced numbers between 0 and 5\n",
    "\n",
    "plt.plot(t, t**2, color='coral', linestyle='--')  # t vs t^2, coral color, dashed line\n",
    "plt.plot(t, 4*t, color='indigo', linewidth=2)    # t vs 4t, purple line, linewidth = 2\n",
    "plt.show()"
   ]
  },
  {
   "cell_type": "code",
   "execution_count": null,
   "metadata": {
    "colab": {},
    "colab_type": "code",
    "id": "qtCyMeDzAd5k"
   },
   "outputs": [],
   "source": [
    "plt.subplot(1,3,1)       # 1st plot\n",
    "plt.plot(t, t, 'c--')    # t vs t, dashed line\n",
    "\n",
    "plt.subplot(1,3,2)       # 2nd plot\n",
    "plt.plot(t, t**2, 'b-')  # t vs t^2, regular line\n",
    "\n",
    "plt.subplot(1,3,3)       # 3rd line\n",
    "plt.plot(t, t**3, 'mo')  # t vs t^3, circles\n",
    "\n",
    "plt.show()"
   ]
  },
  {
   "cell_type": "code",
   "execution_count": null,
   "metadata": {
    "colab": {},
    "colab_type": "code",
    "id": "NSms7s-dAhSL"
   },
   "outputs": [],
   "source": [
    "# let's generate some random continuous data of 1000 entries\n",
    "x = np.random.randn(1000)\n",
    "\n",
    "plt.hist(x, color='seagreen')\n",
    "plt.xlabel(\"Random Data\")\n",
    "plt.ylabel(\"Frequency\")\n",
    "plt.show()"
   ]
  },
  {
   "cell_type": "code",
   "execution_count": null,
   "metadata": {
    "colab": {},
    "colab_type": "code",
    "id": "LkXxh2AKAhax"
   },
   "outputs": [],
   "source": [
    "x = [0,1,2,3,4]\n",
    "y = [0,2,4,6,8]\n",
    "\n",
    "# Resize your Graph (dpi specifies pixels per inch. When saving probably should use 300 if possible)\n",
    "plt.figure(figsize=(8,5), dpi=100)\n",
    "\n",
    "# Line 1\n",
    "\n",
    "# Keyword Argument Notation\n",
    "#plt.plot(x,y, label='2x', color='red', linewidth=2, marker='.', linestyle='--', markersize=10, markeredgecolor='blue')\n",
    "\n",
    "# Shorthand notation\n",
    "# fmt = '[color][marker][line]'\n",
    "plt.plot(x,y, 'b^--', label='2x')\n",
    "\n",
    "## Line 2\n",
    "\n",
    "# select interval we want to plot points at\n",
    "x2 = np.arange(0,4.5,0.5)\n",
    "\n",
    "# Plot part of the graph as line\n",
    "plt.plot(x2[:6], x2[:6]**2, 'r', label='X^2')\n",
    "\n",
    "# Plot remainder of graph as a dot\n",
    "plt.plot(x2[5:], x2[5:]**2, 'r--')\n",
    "\n",
    "# Add a title (specify font parameters with fontdict)\n",
    "plt.title('Our First Graph!', fontdict={'fontname': 'Comic Sans MS', 'fontsize': 20})\n",
    "\n",
    "# X and Y labels\n",
    "plt.xlabel('X Axis')\n",
    "plt.ylabel('Y Axis')\n",
    "\n",
    "# X, Y axis Tickmarks (scale of your graph)\n",
    "plt.xticks([0,1,2,3,4,])\n",
    "#plt.yticks([0,2,4,6,8,10])\n",
    "\n",
    "# Add a legend\n",
    "plt.legend()\n",
    "\n",
    "# Save figure (dpi 300 is good when saving so graph has high resolution)\n",
    "plt.savefig('mygraph.png', dpi=300)\n",
    "\n",
    "# Show plot\n",
    "plt.show()"
   ]
  },
  {
   "cell_type": "code",
   "execution_count": null,
   "metadata": {
    "colab": {},
    "colab_type": "code",
    "id": "gvwEUguGAhdy"
   },
   "outputs": [],
   "source": [
    "labels = ['A', 'B', 'C']\n",
    "values = [1,4,2]\n",
    "\n",
    "plt.figure(figsize=(5,3), dpi=100)\n",
    "\n",
    "bars = plt.bar(labels, values)\n",
    "\n",
    "patterns = ['/', 'O', '*']\n",
    "for bar in bars:\n",
    "    bar.set_hatch(patterns.pop(0))\n",
    "\n",
    "plt.savefig('barchart.png', dpi=300)\n",
    "\n",
    "plt.show()"
   ]
  },
  {
   "cell_type": "code",
   "execution_count": null,
   "metadata": {
    "colab": {},
    "colab_type": "code",
    "id": "_kHQdzMoAhhH"
   },
   "outputs": [],
   "source": [
    "(^GSPC) = pd.read_csv('https://raw.githubusercontent.com/benvictoria21/python-stock/master/%5EGSPC.csv')\n",
    "\n",
    "(^GSPC).head(30)"
   ]
  }
 ],
 "metadata": {
  "colab": {
   "authorship_tag": "ABX9TyPiP7SCSfOKbcLuDWeg0gm8",
   "include_colab_link": true,
   "name": " (^GSPC) stock data ",
   "private_outputs": true,
   "provenance": []
  },
  "kernelspec": {
   "display_name": "Python 3",
   "name": "python3"
  }
 },
 "nbformat": 4,
 "nbformat_minor": 0
}
