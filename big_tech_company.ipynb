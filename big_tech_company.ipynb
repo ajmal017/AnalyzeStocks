{
 "cells": [
  {
   "cell_type": "markdown",
   "metadata": {
    "colab_type": "text",
    "id": "view-in-github"
   },
   "source": [
    "<a href=\"https://colab.research.google.com/github/benvictoria21/python-stock/blob/master/big_tech_company.ipynb\" target=\"_parent\"><img src=\"https://colab.research.google.com/assets/colab-badge.svg\" alt=\"Open In Colab\"/></a>"
   ]
  },
  {
   "cell_type": "code",
   "execution_count": null,
   "metadata": {
    "colab": {},
    "colab_type": "code",
    "id": "SqxgGf_2qfVD"
   },
   "outputs": [],
   "source": [
    "import pandas as pd\n",
    "import matplotlib.pyplot as plt\n",
    "import math\n",
    "import numpy as np"
   ]
  },
  {
   "cell_type": "code",
   "execution_count": null,
   "metadata": {
    "colab": {},
    "colab_type": "code",
    "id": "7PPJP_qHr2uu"
   },
   "outputs": [],
   "source": [
    "FB = pd.read_csv(\"FB.csv\")\n",
    "\n",
    "FB"
   ]
  },
  {
   "cell_type": "code",
   "execution_count": null,
   "metadata": {
    "colab": {},
    "colab_type": "code",
    "id": "0mw7Ji8JsUyQ"
   },
   "outputs": [],
   "source": [
    "GOOG = pd.read_csv(\"GOOG.csv\")\n",
    "\n",
    "GOOG"
   ]
  },
  {
   "cell_type": "code",
   "execution_count": null,
   "metadata": {
    "colab": {},
    "colab_type": "code",
    "id": "RYlSIqqmsk62"
   },
   "outputs": [],
   "source": [
    "MSFT = pd.read_csv(\"MSFT.csv\")\n",
    "\n",
    "MSFT"
   ]
  },
  {
   "cell_type": "code",
   "execution_count": null,
   "metadata": {
    "colab": {},
    "colab_type": "code",
    "id": "_WJiGzfzs2KP"
   },
   "outputs": [],
   "source": [
    "TWTR = pd.read_csv(\"TWTR.csv\")\n",
    "\n",
    "TWTR "
   ]
  },
  {
   "cell_type": "code",
   "execution_count": null,
   "metadata": {
    "colab": {},
    "colab_type": "code",
    "id": "2_nEYrFptAwe"
   },
   "outputs": [],
   "source": [
    "AAPL = pd.read_csv(\"AAPL.csv\")\n",
    "\n",
    "AAPL"
   ]
  },
  {
   "cell_type": "code",
   "execution_count": null,
   "metadata": {
    "colab": {},
    "colab_type": "code",
    "id": "p4itD1ahtXBb"
   },
   "outputs": [],
   "source": [
    "FB.tail()"
   ]
  },
  {
   "cell_type": "code",
   "execution_count": null,
   "metadata": {
    "colab": {},
    "colab_type": "code",
    "id": "zTO5cVaLtrGt"
   },
   "outputs": [],
   "source": [
    "AAPL.tail()"
   ]
  },
  {
   "cell_type": "code",
   "execution_count": null,
   "metadata": {
    "colab": {},
    "colab_type": "code",
    "id": "OjiiLsX9tvUg"
   },
   "outputs": [],
   "source": [
    "TWTR.tail()"
   ]
  },
  {
   "cell_type": "code",
   "execution_count": null,
   "metadata": {
    "colab": {},
    "colab_type": "code",
    "id": "jhWUP1xUt1LM"
   },
   "outputs": [],
   "source": [
    "MSFT.tail()"
   ]
  },
  {
   "cell_type": "code",
   "execution_count": null,
   "metadata": {
    "colab": {},
    "colab_type": "code",
    "id": "d44Xteput6ur"
   },
   "outputs": [],
   "source": [
    "GOOG.tail()"
   ]
  },
  {
   "cell_type": "code",
   "execution_count": null,
   "metadata": {
    "colab": {},
    "colab_type": "code",
    "id": "RCXCRqIJuBnd"
   },
   "outputs": [],
   "source": [
    "GOOG.describe()"
   ]
  },
  {
   "cell_type": "code",
   "execution_count": null,
   "metadata": {
    "colab": {},
    "colab_type": "code",
    "id": "LsJsSWjKuEkO"
   },
   "outputs": [],
   "source": [
    "FB.describe()"
   ]
  },
  {
   "cell_type": "code",
   "execution_count": null,
   "metadata": {
    "colab": {},
    "colab_type": "code",
    "id": "su17s4PPuEpg"
   },
   "outputs": [],
   "source": [
    "MSFT.describe()"
   ]
  },
  {
   "cell_type": "code",
   "execution_count": null,
   "metadata": {
    "colab": {},
    "colab_type": "code",
    "id": "rHRcKN-xuEsI"
   },
   "outputs": [],
   "source": [
    "AAPL.describe()"
   ]
  },
  {
   "cell_type": "code",
   "execution_count": null,
   "metadata": {
    "colab": {},
    "colab_type": "code",
    "id": "iele4wazuEuw"
   },
   "outputs": [],
   "source": [
    "TWTR.tail()"
   ]
  },
  {
   "cell_type": "code",
   "execution_count": null,
   "metadata": {
    "colab": {},
    "colab_type": "code",
    "id": "4x3CIjJ0uExg"
   },
   "outputs": [],
   "source": [
    "plt.plot([0,1,2,4,5])\n",
    "plt.show"
   ]
  },
  {
   "cell_type": "code",
   "execution_count": null,
   "metadata": {
    "colab": {},
    "colab_type": "code",
    "id": "5U08mDDkuE0I"
   },
   "outputs": [],
   "source": [
    "plt.pie([0,1,2,4,5]) \n",
    "plt.show "
   ]
  },
  {
   "cell_type": "code",
   "execution_count": null,
   "metadata": {
    "colab": {},
    "colab_type": "code",
    "id": "j8h72lx-uFB3"
   },
   "outputs": [],
   "source": [
    "FB = pd.read_csv(\"https://query1.finance.yahoo.com/v7/finance/download/%5EIXIC?period1=1562508067&period2=1594130467&interval=1d&events=history\")"
   ]
  },
  {
   "cell_type": "code",
   "execution_count": null,
   "metadata": {
    "colab": {},
    "colab_type": "code",
    "id": "KAB0A3_RuFHN"
   },
   "outputs": [],
   "source": [
    "GOOG = pd.read_csv(\"https://query1.finance.yahoo.com/v7/finance/download/%5EIXIC?period1=1562508067&period2=1594130467&interval=1d&events=history\")"
   ]
  },
  {
   "cell_type": "code",
   "execution_count": null,
   "metadata": {
    "colab": {},
    "colab_type": "code",
    "id": "zi-ZeKJCuFSK"
   },
   "outputs": [],
   "source": [
    "GOOG = pd.read_csv(\"https://query1.finance.yahoo.com/v7/finance/download/%5EIXIC?period1=1562508067&period2=1594130467&interval=1d&events=history\")"
   ]
  },
  {
   "cell_type": "code",
   "execution_count": null,
   "metadata": {
    "colab": {},
    "colab_type": "code",
    "id": "Eva5IJa0uFdA"
   },
   "outputs": [],
   "source": [
    "TWTR = pd.read_csv(\"https://query1.finance.yahoo.com/v7/finance/download/%5EIXIC?period1=1562508067&period2=1594130467&interval=1d&events=history\")"
   ]
  },
  {
   "cell_type": "code",
   "execution_count": null,
   "metadata": {
    "colab": {},
    "colab_type": "code",
    "id": "d5cDXyRPuFjN"
   },
   "outputs": [],
   "source": [
    "MSFT = pd.read_csv(\"https://query1.finance.yahoo.com/v7/finance/download/%5EIXIC?period1=1562508067&period2=1594130467&interval=1d&events=history\")"
   ]
  },
  {
   "cell_type": "code",
   "execution_count": null,
   "metadata": {
    "colab": {},
    "colab_type": "code",
    "id": "fFItiKQQuFgi"
   },
   "outputs": [],
   "source": [
    "AAPL = pd.read_csv(\"https://query1.finance.yahoo.com/v7/finance/download/%5EIXIC?period1=1562508067&period2=1594130467&interval=1d&events=history\")"
   ]
  },
  {
   "cell_type": "code",
   "execution_count": null,
   "metadata": {
    "colab": {},
    "colab_type": "code",
    "id": "hRaqleNiuFaZ"
   },
   "outputs": [],
   "source": [
    "import pandas as pd"
   ]
  },
  {
   "cell_type": "code",
   "execution_count": null,
   "metadata": {
    "colab": {},
    "colab_type": "code",
    "id": "0CNFOgd_uFXk"
   },
   "outputs": [],
   "source": [
    "pd.read_csv(\"https://query1.finance.yahoo.com/v7/finance/download/%5EIXIC?period1=1562508067&period2=1594130467&interval=1d&events=history\")"
   ]
  },
  {
   "cell_type": "code",
   "execution_count": null,
   "metadata": {
    "colab": {},
    "colab_type": "code",
    "id": "cBFzQl__ux2I"
   },
   "outputs": [],
   "source": [
    "FB.to_csv(\"FB.csv\")\n",
    "\n",
    "pd.read_csv(\"FB.csv\")"
   ]
  },
  {
   "cell_type": "code",
   "execution_count": null,
   "metadata": {
    "colab": {},
    "colab_type": "code",
    "id": "b1RPos5yuyPt"
   },
   "outputs": [],
   "source": [
    "MSFT.to_csv(\"MSFT.csv\")\n",
    "\n",
    "pd.read_csv(\"MSFT.csv\")"
   ]
  },
  {
   "cell_type": "code",
   "execution_count": null,
   "metadata": {
    "colab": {},
    "colab_type": "code",
    "id": "6mbx5x7fuyhj"
   },
   "outputs": [],
   "source": [
    "GOOG.to_csv(\"GOOG.csv\")\n",
    "\n",
    "pd.read_csv(\"GOOG.csv\")"
   ]
  },
  {
   "cell_type": "code",
   "execution_count": null,
   "metadata": {
    "colab": {},
    "colab_type": "code",
    "id": "_F3zAQ46uylN"
   },
   "outputs": [],
   "source": [
    "TWTR.to_csv(\"TWTR.csv\")\n",
    "\n",
    "pd.read_csv(\"TWTR.csv\")"
   ]
  },
  {
   "cell_type": "code",
   "execution_count": null,
   "metadata": {
    "colab": {},
    "colab_type": "code",
    "id": "jnBmZXcsvrcM"
   },
   "outputs": [],
   "source": [
    "FB.to_excel(\"FB.xls\")\n",
    "\n",
    "pd.read_excel(\"FB.xls\")"
   ]
  },
  {
   "cell_type": "code",
   "execution_count": null,
   "metadata": {
    "colab": {},
    "colab_type": "code",
    "id": "1Im7gyFjvrzf"
   },
   "outputs": [],
   "source": [
    "FB.to_excel(\"FB.xls\")\n",
    "\n",
    "pd.read_excel(\"FB.xls\")"
   ]
  },
  {
   "cell_type": "code",
   "execution_count": null,
   "metadata": {
    "colab": {},
    "colab_type": "code",
    "id": "YdE3a-vXvsB0"
   },
   "outputs": [],
   "source": [
    "AAPL.to_excel(\"AAPL.xls\")\n",
    "\n",
    "pd.read_excel(\"AAPL.xls\")"
   ]
  },
  {
   "cell_type": "code",
   "execution_count": null,
   "metadata": {
    "colab": {},
    "colab_type": "code",
    "id": "k2dMf0i6vsNl"
   },
   "outputs": [],
   "source": [
    "MSFT.to_excel(\"MSFT.xls\")\n",
    "\n",
    "pd.read_excel(\"MSFT.xls\")"
   ]
  },
  {
   "cell_type": "code",
   "execution_count": null,
   "metadata": {
    "colab": {},
    "colab_type": "code",
    "id": "JK07hrq-vsVy"
   },
   "outputs": [],
   "source": [
    "AAPL.to_excel(\"AAPL.xls\")\n",
    "\n",
    "pd.read_excel(\"AAPL.xls\")"
   ]
  },
  {
   "cell_type": "code",
   "execution_count": null,
   "metadata": {
    "colab": {},
    "colab_type": "code",
    "id": "B-4vOxNcvsd0"
   },
   "outputs": [],
   "source": [
    "MSFT.to_excel(\"MSFT.xls\")\n",
    "\n",
    "pd.read_excel(\"MSFT.xls\")"
   ]
  },
  {
   "cell_type": "code",
   "execution_count": null,
   "metadata": {
    "colab": {},
    "colab_type": "code",
    "id": "lkYAheMcvsoj"
   },
   "outputs": [],
   "source": [
    "GOOG.to_excel(\"GOOG.xls\")\n",
    "\n",
    "pd.read_excel(\"GOOG.xls\")"
   ]
  },
  {
   "cell_type": "code",
   "execution_count": null,
   "metadata": {
    "colab": {},
    "colab_type": "code",
    "id": "Lza7v_kovsKp"
   },
   "outputs": [],
   "source": [
    "TWTR.to_excel(\"TWTR.xls\")\n",
    "\n",
    "pd.read_excel(\"TWTR.xls\")"
   ]
  },
  {
   "cell_type": "code",
   "execution_count": null,
   "metadata": {
    "colab": {},
    "colab_type": "code",
    "id": "KYxgXHxXvsHh"
   },
   "outputs": [],
   "source": [
    "AAPL.to_excel(\"AAPL.xls\")\n",
    "\n",
    "pd.read_excel(\"AAPL.xls\")"
   ]
  },
  {
   "cell_type": "code",
   "execution_count": null,
   "metadata": {
    "colab": {},
    "colab_type": "code",
    "id": "1LYHThWHvr-x"
   },
   "outputs": [],
   "source": [
    "plt.pie([0,1,2,4,5])\n",
    "plt.show"
   ]
  },
  {
   "cell_type": "code",
   "execution_count": null,
   "metadata": {
    "colab": {},
    "colab_type": "code",
    "id": "kHrZxSgPvrwy"
   },
   "outputs": [],
   "source": [
    "plt.plot([0,1,2,4,5])\n",
    "plt.show"
   ]
  },
  {
   "cell_type": "code",
   "execution_count": null,
   "metadata": {
    "colab": {},
    "colab_type": "code",
    "id": "UewcEaKSvrt4"
   },
   "outputs": [],
   "source": [
    "import pandas_datareader as pdr \n",
    "import datetime \n",
    "aapl = pdr.get_data_yahoo(\"AAPL\",\n",
    "                          start=datetime.datetime(2006,10,1),\n",
    "                          end=datetime.datetime(2012,1,1))\n",
    "\n",
    "aapl.head()"
   ]
  },
  {
   "cell_type": "code",
   "execution_count": null,
   "metadata": {
    "colab": {},
    "colab_type": "code",
    "id": "DJfyq-uhvrZW"
   },
   "outputs": [],
   "source": [
    "import pandas_datareader as pdr \n",
    "import datetime \n",
    "GOOG = pdr.get_data_yahoo(\"AAPL\",\n",
    "                          start=datetime.datetime(2006,10,1),\n",
    "                          end=datetime.datetime(2012,1,1))\n",
    "\n",
    "GOOG.head()"
   ]
  },
  {
   "cell_type": "code",
   "execution_count": null,
   "metadata": {
    "colab": {},
    "colab_type": "code",
    "id": "oHBbq1ZZvrWu"
   },
   "outputs": [],
   "source": [
    "import pandas_datareader as pdr \n",
    "import datetime \n",
    "MSFT = pdr.get_data_yahoo(\"AAPL\",\n",
    "                          start=datetime.datetime(2006,10,1),\n",
    "                          end=datetime.datetime(2012,1,1))\n",
    "\n",
    "MSFT.head()"
   ]
  },
  {
   "cell_type": "code",
   "execution_count": null,
   "metadata": {
    "colab": {},
    "colab_type": "code",
    "id": "2JZvsMoUvrUK"
   },
   "outputs": [],
   "source": [
    "import pandas_datareader as pdr \n",
    "import datetime \n",
    "TWTR = pdr.get_data_yahoo(\"AAPL\",\n",
    "                          start=datetime.datetime(2006,10,1),\n",
    "                          end=datetime.datetime(2012,1,1))\n",
    "\n",
    "TWTR.head()"
   ]
  },
  {
   "cell_type": "code",
   "execution_count": null,
   "metadata": {
    "colab": {},
    "colab_type": "code",
    "id": "8g9O3TiBx9eu"
   },
   "outputs": [],
   "source": [
    "!pip install quandl"
   ]
  },
  {
   "cell_type": "code",
   "execution_count": null,
   "metadata": {
    "colab": {},
    "colab_type": "code",
    "id": "sV2aUZb3vrRm"
   },
   "outputs": [],
   "source": [
    "import quandl\n",
    "quandl.ApiConfig.api_key = \"uhWHfKsyu4vyg7ybfyyt\"\n",
    "aapl = quandl.get(\"WIKI/AAPl\",start_date=\"2006-10-01\",end_date=\"2012-01-01\")\n",
    "\n",
    "aapl.head()"
   ]
  },
  {
   "cell_type": "code",
   "execution_count": null,
   "metadata": {
    "colab": {},
    "colab_type": "code",
    "id": "yhcK-9lpyTZu"
   },
   "outputs": [],
   "source": [
    "import quandl\n",
    "quandl.ApiConfig.api_key = \"uhWHfKsyu4vyg7ybfyyt\"\n",
    "TWTR = quandl.get(\"WIKI/TWTR\",start_date=\"2006-10-01\",end_date=\"2012-01-01\")\n",
    "TWTR.head()\n",
    "\n",
    "pd.read_csv(\"TWTR\")"
   ]
  },
  {
   "cell_type": "code",
   "execution_count": null,
   "metadata": {
    "colab": {},
    "colab_type": "code",
    "id": "xJB5pXZjzBvu"
   },
   "outputs": [],
   "source": [
    "import quandl\n",
    "quandl.ApiConfig.api_key = \"uhWHfKsyu4vyg7ybfyyt\"\n",
    "GOOG = quandl.get(\"WIKI/TWTR\",start_date=\"2006-10-01\",end_date=\"2012-01-01\")\n",
    "GOOG.head()\n",
    "\n",
    "pd.read_csv(\"GOOG.csv\")"
   ]
  }
 ],
 "metadata": {
  "accelerator": "TPU",
  "colab": {
   "authorship_tag": "ABX9TyMqI0fNn7da2WzbCnAv8ebj",
   "include_colab_link": true,
   "name": "big tech company.ipynb",
   "private_outputs": true,
   "provenance": []
  },
  "kernelspec": {
   "display_name": "Python 3",
   "name": "python3"
  }
 },
 "nbformat": 4,
 "nbformat_minor": 0
}
