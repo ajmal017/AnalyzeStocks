{
 "cells": [
  {
   "cell_type": "markdown",
   "metadata": {
    "colab_type": "text",
    "id": "view-in-github"
   },
   "source": [
    "<a href=\"https://colab.research.google.com/github/benvictoria21/python-stock/blob/master/Capital_One_stock_data_.ipynb\" target=\"_parent\"><img src=\"https://colab.research.google.com/assets/colab-badge.svg\" alt=\"Open In Colab\"/></a>"
   ]
  },
  {
   "cell_type": "code",
   "execution_count": null,
   "metadata": {
    "colab": {},
    "colab_type": "code",
    "id": "MVPs0QqDU-yy"
   },
   "outputs": [],
   "source": [
    "!pip install yfinance"
   ]
  },
  {
   "cell_type": "code",
   "execution_count": null,
   "metadata": {
    "colab": {},
    "colab_type": "code",
    "id": "ME8VUAZ3R1n7"
   },
   "outputs": [],
   "source": [
    "import matplotlib.pyplot as plt\n",
    "import numpy as np\n",
    "import math \n",
    "import pandas as pd\n",
    "import yfinance"
   ]
  },
  {
   "cell_type": "code",
   "execution_count": null,
   "metadata": {
    "colab": {},
    "colab_type": "code",
    "id": "qkIarkM2QEdK"
   },
   "outputs": [],
   "source": [
    "cof = pd.read_csv(\"https://raw.githubusercontent.com/benvictoria21/python-stock/master/COF.csv\")"
   ]
  },
  {
   "cell_type": "code",
   "execution_count": null,
   "metadata": {
    "colab": {},
    "colab_type": "code",
    "id": "UcpalChbTIjy"
   },
   "outputs": [],
   "source": [
    "cof.head()"
   ]
  },
  {
   "cell_type": "code",
   "execution_count": null,
   "metadata": {
    "colab": {},
    "colab_type": "code",
    "id": "A2Tor_UaTsnQ"
   },
   "outputs": [],
   "source": [
    "cof.head"
   ]
  },
  {
   "cell_type": "code",
   "execution_count": null,
   "metadata": {
    "colab": {},
    "colab_type": "code",
    "id": "umNmvv1PTvF2"
   },
   "outputs": [],
   "source": [
    "cof.head(1)"
   ]
  },
  {
   "cell_type": "code",
   "execution_count": null,
   "metadata": {
    "colab": {},
    "colab_type": "code",
    "id": "5mJtnImpViOi"
   },
   "outputs": [],
   "source": [
    "cof.head(100-200)"
   ]
  },
  {
   "cell_type": "code",
   "execution_count": null,
   "metadata": {
    "colab": {},
    "colab_type": "code",
    "id": "jj7zi5C6VnFM"
   },
   "outputs": [],
   "source": [
    "cof.head(3000000)"
   ]
  },
  {
   "cell_type": "code",
   "execution_count": null,
   "metadata": {
    "colab": {},
    "colab_type": "code",
    "id": "8klxzf2LWD6z"
   },
   "outputs": [],
   "source": [
    "cof.head(252)"
   ]
  },
  {
   "cell_type": "code",
   "execution_count": null,
   "metadata": {
    "colab": {},
    "colab_type": "code",
    "id": "4GPPbacXXgIj"
   },
   "outputs": [],
   "source": [
    "plt.plot([0,1,2,3])\n",
    "plt.show"
   ]
  },
  {
   "cell_type": "code",
   "execution_count": null,
   "metadata": {
    "colab": {},
    "colab_type": "code",
    "id": "SjNNxfumXq6S"
   },
   "outputs": [],
   "source": [
    "plt.plot([1, 2, 7, 8], [1, 9, 7, 14])\n",
    "plt.show()"
   ]
  },
  {
   "cell_type": "code",
   "execution_count": null,
   "metadata": {
    "colab": {},
    "colab_type": "code",
    "id": "SCoc5SiQXuQ1"
   },
   "outputs": [],
   "source": [
    "plt.plot([1,2,3,4], [1,7,9,16], 'ro')\n",
    "plt.show()"
   ]
  },
  {
   "cell_type": "code",
   "execution_count": null,
   "metadata": {
    "colab": {},
    "colab_type": "code",
    "id": "8WWYuz2bXwtu"
   },
   "outputs": [],
   "source": [
    "a = np.array([[1,2,3,4,5],[3,7,9,14,12]])\n",
    "\n",
    "plt.plot(a[0], a[1], 'go')  # Format is green circles\n",
    "plt.show()"
   ]
  },
  {
   "cell_type": "code",
   "execution_count": null,
   "metadata": {
    "colab": {},
    "colab_type": "code",
    "id": "NCDkjzE4Xy-m"
   },
   "outputs": [],
   "source": [
    "t = np.linspace(0, 5, 20)   # Returns 20 evenly spaced numbers between 0 and 5\n",
    "\n",
    "plt.plot(t, t**2, color='coral', linestyle='--')  # t vs t^2, coral color, dashed line\n",
    "plt.plot(t, 4*t, color='indigo', linewidth=2)    # t vs 4t, purple line, linewidth = 2\n",
    "plt.show()"
   ]
  },
  {
   "cell_type": "code",
   "execution_count": null,
   "metadata": {
    "colab": {},
    "colab_type": "code",
    "id": "XPrNzZCUX6DK"
   },
   "outputs": [],
   "source": [
    "plt.subplot(1,3,1)       # 1st plot\n",
    "plt.plot(t, t, 'c--')    # t vs t, dashed line\n",
    "\n",
    "plt.subplot(1,3,2)       # 2nd plot\n",
    "plt.plot(t, t**2, 'b-')  # t vs t^2, regular line\n",
    "\n",
    "plt.subplot(1,3,3)       # 3rd line\n",
    "plt.plot(t, t**3, 'mo')  # t vs t^3, circles\n",
    "\n",
    "plt.show()"
   ]
  },
  {
   "cell_type": "code",
   "execution_count": null,
   "metadata": {
    "colab": {},
    "colab_type": "code",
    "id": "bSAefxl3Y-El"
   },
   "outputs": [],
   "source": [
    "# let's generate some random continuous data of 1000 entries\n",
    "x = np.random.randn(1000)\n",
    "\n",
    "plt.hist(x, color='seagreen')\n",
    "plt.xlabel(\"Random Data\")\n",
    "plt.ylabel(\"Frequency\")\n",
    "plt.show()"
   ]
  }
 ],
 "metadata": {
  "colab": {
   "authorship_tag": "ABX9TyMcPN7qjhHGs070xa6aSg9l",
   "include_colab_link": true,
   "name": "Capital One stock data .ipynb",
   "private_outputs": true,
   "provenance": []
  },
  "kernelspec": {
   "display_name": "Python 3",
   "name": "python3"
  }
 },
 "nbformat": 4,
 "nbformat_minor": 0
}
